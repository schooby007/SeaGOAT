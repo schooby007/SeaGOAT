{
 "cells": [
  {
   "cell_type": "markdown",
   "id": "8be6de68-bdab-4c83-8906-f3857a8ca9d2",
   "metadata": {},
   "source": [
    "# How to run this notebook\n",
    "\n",
    "In order to run this notebook using Poetry, you first need to create a kernel that uses the virtualenv that you use for SeaGOAT development.\n",
    "\n",
    "In order to do that, you can run the following commands:\n",
    "\n",
    "```bash\n",
    "poetry run python -m ipykernel install --user --name seagoat-poetry\n",
    "jupyter labextension install @jupyter-widgets/jupyterlab-manager\n",
    "```"
   ]
  },
  {
   "cell_type": "code",
   "execution_count": 178,
   "id": "dbace2d6-271b-490e-88c4-9bef9efc9035",
   "metadata": {},
   "outputs": [
    {
     "name": "stdout",
     "output_type": "stream",
     "text": [
      "The autoreload extension is already loaded. To reload it, use:\n",
      "  %reload_ext autoreload\n"
     ]
    }
   ],
   "source": [
    "%load_ext autoreload\n",
    "%autoreload 2"
   ]
  },
  {
   "cell_type": "code",
   "execution_count": 179,
   "id": "8ea67b49-4e7e-43d5-ae65-8ca867e2214b",
   "metadata": {},
   "outputs": [],
   "source": [
    "import matplotlib.pyplot as plt\n",
    "import ipywidgets as widgets\n",
    "from IPython.display import display\n",
    "from IPython.core.getipython import get_ipython"
   ]
  },
  {
   "cell_type": "code",
   "execution_count": 180,
   "id": "b41444e9-cfd6-4092-b81c-d927aaf5f4a0",
   "metadata": {
    "scrolled": true
   },
   "outputs": [],
   "source": [
    "from load_results import load_results\n",
    "from load_results import get_percentage_of_queries_with_correct_results\n",
    "from load_results import get_percentage_of_examples_with_correct_results\n",
    "from load_results import get_positions_of_correct_results\n",
    "from load_results import get_best_position_of_correct_results\n",
    "from load_results import get_average_position_of_a_correct_results\n",
    "from load_results import get_list_of_test_runs\n",
    "from load_results import get_chance_of_getting_correct_result_in_n_lines\n",
    "\n",
    "list_of_test_runs = get_list_of_test_runs()\n",
    "selected_test_run = list_of_test_runs[0]\n",
    "\n",
    "\n",
    "global selected_test_run\n",
    "\n",
    "def update_selected_test_run(change):\n",
    "    global selected_test_run\n",
    "    selected_test_run = change['new']\n",
    "    get_ipython().run_cell_magic('javascript', '', 'IPython.notebook.execute_cells_below()')\n",
    "\n",
    "test_run_dropdown = widgets.Dropdown(\n",
    "    options=list_of_test_runs,\n",
    "    description='Test run:',\n",
    ")\n",
    "test_run_dropdown.observe(update_selected_test_run, names='value')"
   ]
  },
  {
   "cell_type": "markdown",
   "id": "0e27a588-b96a-4f5e-ac6c-76a63edb1ad5",
   "metadata": {},
   "source": [
    "# SeaGOAT query accuracy"
   ]
  },
  {
   "cell_type": "code",
   "execution_count": 181,
   "id": "4c8b23ef-bcdf-4d80-92d8-10a5fe526959",
   "metadata": {},
   "outputs": [
    {
     "data": {
      "application/vnd.jupyter.widget-view+json": {
       "model_id": "f5acdc152f504e2285ae1b802e104eb5",
       "version_major": 2,
       "version_minor": 0
      },
      "text/plain": [
       "Dropdown(description='Test run:', options=('initial test',), value='initial test')"
      ]
     },
     "metadata": {},
     "output_type": "display_data"
    }
   ],
   "source": [
    "display(test_run_dropdown)"
   ]
  },
  {
   "cell_type": "code",
   "execution_count": 182,
   "id": "5dad92aa-5492-4cca-81de-cbbae3af08a1",
   "metadata": {},
   "outputs": [],
   "source": [
    "results = load_results(selected_test_run)"
   ]
  },
  {
   "cell_type": "markdown",
   "id": "e829604f-6a3c-4d89-a62e-4c3abf4253ce",
   "metadata": {},
   "source": [
    "## % of queries resulting in a correct result"
   ]
  },
  {
   "cell_type": "code",
   "execution_count": 183,
   "id": "6766d5d9-dec4-4527-a23b-01eb53adc67e",
   "metadata": {},
   "outputs": [
    {
     "data": {
      "text/plain": [
       "0.30120481927710846"
      ]
     },
     "execution_count": 183,
     "metadata": {},
     "output_type": "execute_result"
    }
   ],
   "source": [
    "get_percentage_of_queries_with_correct_results(results, \"random\")"
   ]
  },
  {
   "cell_type": "code",
   "execution_count": 184,
   "id": "63e46be7-29b4-4e13-aba6-f840e40a0edc",
   "metadata": {},
   "outputs": [
    {
     "data": {
      "text/plain": [
       "37.148594377510044"
      ]
     },
     "execution_count": 184,
     "metadata": {},
     "output_type": "execute_result"
    }
   ],
   "source": [
    "get_percentage_of_queries_with_correct_results(results, \"seagoat\")"
   ]
  },
  {
   "cell_type": "markdown",
   "id": "408e5b89-f0da-46a3-9602-5541f86325e6",
   "metadata": {},
   "source": [
    "## % of examples with at least one query resulting in a correct result"
   ]
  },
  {
   "cell_type": "code",
   "execution_count": 185,
   "id": "891b6f80-36ed-4bb3-a155-721efc2a174f",
   "metadata": {},
   "outputs": [
    {
     "data": {
      "text/plain": [
       "2.112676056338028"
      ]
     },
     "execution_count": 185,
     "metadata": {},
     "output_type": "execute_result"
    }
   ],
   "source": [
    "get_percentage_of_examples_with_correct_results(results, 'random')"
   ]
  },
  {
   "cell_type": "code",
   "execution_count": 186,
   "id": "9aaae6d9-da91-4fdb-b163-c0c885c0219e",
   "metadata": {},
   "outputs": [
    {
     "data": {
      "text/plain": [
       "76.05633802816901"
      ]
     },
     "execution_count": 186,
     "metadata": {},
     "output_type": "execute_result"
    }
   ],
   "source": [
    "get_percentage_of_examples_with_correct_results(results, 'seagoat')"
   ]
  },
  {
   "cell_type": "markdown",
   "id": "bf0724d6-33e2-4da7-819f-0d2317324ee2",
   "metadata": {},
   "source": [
    "## Position of correct result when a correct result is found"
   ]
  },
  {
   "cell_type": "code",
   "execution_count": 187,
   "id": "826ac63a-20e0-415c-b68d-cbdc63146deb",
   "metadata": {},
   "outputs": [
    {
     "data": {
      "text/plain": [
       "(array([1., 0., 0., 0., 0., 1., 0., 0., 0., 0., 0., 0., 0., 0., 0., 0., 0.,\n",
       "        0., 0., 1.]),\n",
       " array([ 6.  ,  7.15,  8.3 ,  9.45, 10.6 , 11.75, 12.9 , 14.05, 15.2 ,\n",
       "        16.35, 17.5 , 18.65, 19.8 , 20.95, 22.1 , 23.25, 24.4 , 25.55,\n",
       "        26.7 , 27.85, 29.  ]),\n",
       " <BarContainer object of 20 artists>)"
      ]
     },
     "execution_count": 187,
     "metadata": {},
     "output_type": "execute_result"
    },
    {
     "data": {
      "image/png": "[encoded data removed]",
      "text/plain": [
       "<Figure size 640x480 with 1 Axes>"
      ]
     },
     "metadata": {},
     "output_type": "display_data"
    }
   ],
   "source": [
    "plt.hist(get_positions_of_correct_results(results, 'random'), 20)"
   ]
  },
  {
   "cell_type": "code",
   "execution_count": 188,
   "id": "41c5fc9e-03b2-4ae9-b006-fbef62f1bfc7",
   "metadata": {},
   "outputs": [
    {
     "data": {
      "text/plain": [
       "(array([87., 95., 68., 24., 19., 14.,  2., 15.,  7., 13.,  1.,  5.,  2.,\n",
       "         1.,  0.,  7.,  0.,  5.,  0.,  5.]),\n",
       " array([  2. ,  11.4,  20.8,  30.2,  39.6,  49. ,  58.4,  67.8,  77.2,\n",
       "         86.6,  96. , 105.4, 114.8, 124.2, 133.6, 143. , 152.4, 161.8,\n",
       "        171.2, 180.6, 190. ]),\n",
       " <BarContainer object of 20 artists>)"
      ]
     },
     "execution_count": 188,
     "metadata": {},
     "output_type": "execute_result"
    },
    {
     "data": {
      "image/png": "[encoded data removed]",
      "text/plain": [
       "<Figure size 640x480 with 1 Axes>"
      ]
     },
     "metadata": {},
     "output_type": "display_data"
    }
   ],
   "source": [
    "plt.hist(get_positions_of_correct_results(results, 'seagoat'), 20)"
   ]
  },
  {
   "cell_type": "markdown",
   "id": "2827dfea-0c20-4cc9-9978-2abc6393eeb1",
   "metadata": {},
   "source": [
    "## Best result position for examples"
   ]
  },
  {
   "cell_type": "code",
   "execution_count": 189,
   "id": "7a23e808-ecfe-444c-8fe3-c9d63675d417",
   "metadata": {},
   "outputs": [
    {
     "data": {
      "text/plain": [
       "(array([19., 28., 21.,  8.,  6.,  7.,  1.,  5.,  1.,  4.,  1.,  1.,  1.,\n",
       "         1.,  0.,  1.,  0.,  1.,  0.,  2.]),\n",
       " array([  2. ,  11.4,  20.8,  30.2,  39.6,  49. ,  58.4,  67.8,  77.2,\n",
       "         86.6,  96. , 105.4, 114.8, 124.2, 133.6, 143. , 152.4, 161.8,\n",
       "        171.2, 180.6, 190. ]),\n",
       " <BarContainer object of 20 artists>)"
      ]
     },
     "execution_count": 189,
     "metadata": {},
     "output_type": "execute_result"
    },
    {
     "data": {
      "image/png": "[encoded data removed]",
      "text/plain": [
       "<Figure size 640x480 with 1 Axes>"
      ]
     },
     "metadata": {},
     "output_type": "display_data"
    }
   ],
   "source": [
    "plt.hist(get_best_position_of_correct_results(results, 'seagoat'), 20)"
   ]
  },
  {
   "cell_type": "markdown",
   "id": "6a8f55e1-b919-4791-843a-c9b9cd447fd6",
   "metadata": {},
   "source": [
    "## Average position of correct results"
   ]
  },
  {
   "cell_type": "code",
   "execution_count": 190,
   "id": "ec83ac81-6851-4964-a16d-2d5630a16b49",
   "metadata": {},
   "outputs": [
    {
     "data": {
      "text/plain": [
       "35.351351351351354"
      ]
     },
     "execution_count": 190,
     "metadata": {},
     "output_type": "execute_result"
    }
   ],
   "source": [
    "get_average_position_of_a_correct_results(results, 'seagoat')"
   ]
  },
  {
   "cell_type": "markdown",
   "id": "dd798ce6-edee-4c3b-9df7-ee439494ff0a",
   "metadata": {},
   "source": [
    "## Chance of correct result by line N (%)"
   ]
  },
  {
   "cell_type": "code",
   "execution_count": 192,
   "id": "bad9ca92-b817-4cd8-ae47-209ab34de9f9",
   "metadata": {},
   "outputs": [
    {
     "data": {
      "text/plain": [
       "<BarContainer object of 500 artists>"
      ]
     },
     "execution_count": 192,
     "metadata": {},
     "output_type": "execute_result"
    },
    {
     "data": {
      "image/png": "[encoded data removed]",
      "text/plain": [
       "<Figure size 640x480 with 1 Axes>"
      ]
     },
     "metadata": {},
     "output_type": "display_data"
    }
   ],
   "source": [
    "plt.bar(range(500), get_chance_of_getting_correct_result_in_n_lines(results, 'seagoat'), 100)"
   ]
  }
 ],
 "metadata": {
  "kernelspec": {
   "display_name": "seagoat-poetry",
   "language": "python",
   "name": "seagoat-poetry"
  },
  "language_info": {
   "codemirror_mode": {
    "name": "ipython",
    "version": 3
   },
   "file_extension": ".py",
   "mimetype": "text/x-python",
   "name": "python",
   "nbconvert_exporter": "python",
   "pygments_lexer": "ipython3",
   "version": "3.11.5"
  }
 },
 "nbformat": 4,
 "nbformat_minor": 5
}
